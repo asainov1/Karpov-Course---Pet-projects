{
 "cells": [
  {
   "cell_type": "code",
   "execution_count": 215,
   "metadata": {
    "id": "81t4wEj-9sjI"
   },
   "outputs": [],
   "source": [
    "import pandas as pd"
   ]
  },
  {
   "cell_type": "markdown",
   "metadata": {
    "id": "Eir77xQk9sjK"
   },
   "source": [
    "**Научимся считать метрики в pandas-табличках**\n",
    "\n",
    "Представим, что 2 добрых и очень-очень умных гнома прокрались к нам в данные, описывающие различные поездки в такси.\n",
    "Далее, для каждого объекта (и его признаков, соответственно), гномы построили модели предсказания того, какая должна была быть у данных заказов длительность исполнения. Прогнозы своих моделей они положили соответственно в колонки **prediction_1** и **prediction_2**"
   ]
  },
  {
   "cell_type": "code",
   "execution_count": 216,
   "metadata": {
    "id": "cF_CAFZ89sjL"
   },
   "outputs": [],
   "source": [
    "df = pd.read_csv('/Users/alikhansainov/Desktop/Karpov/taxi_dataset_with_predictions.csv', index_col=0)"
   ]
  },
  {
   "cell_type": "code",
   "execution_count": 217,
   "metadata": {
    "id": "UlT5Cex79sjN"
   },
   "outputs": [
    {
     "data": {
      "text/html": [
       "<div>\n",
       "<style scoped>\n",
       "    .dataframe tbody tr th:only-of-type {\n",
       "        vertical-align: middle;\n",
       "    }\n",
       "\n",
       "    .dataframe tbody tr th {\n",
       "        vertical-align: top;\n",
       "    }\n",
       "\n",
       "    .dataframe thead th {\n",
       "        text-align: right;\n",
       "    }\n",
       "</style>\n",
       "<table border=\"1\" class=\"dataframe\">\n",
       "  <thead>\n",
       "    <tr style=\"text-align: right;\">\n",
       "      <th></th>\n",
       "      <th>vendor_id</th>\n",
       "      <th>pickup_datetime</th>\n",
       "      <th>passenger_count</th>\n",
       "      <th>store_and_fwd_flag</th>\n",
       "      <th>trip_duration</th>\n",
       "      <th>distance_km</th>\n",
       "      <th>prediction_1</th>\n",
       "      <th>prediction_2</th>\n",
       "    </tr>\n",
       "    <tr>\n",
       "      <th>id</th>\n",
       "      <th></th>\n",
       "      <th></th>\n",
       "      <th></th>\n",
       "      <th></th>\n",
       "      <th></th>\n",
       "      <th></th>\n",
       "      <th></th>\n",
       "      <th></th>\n",
       "    </tr>\n",
       "  </thead>\n",
       "  <tbody>\n",
       "    <tr>\n",
       "      <th>id2875421</th>\n",
       "      <td>1</td>\n",
       "      <td>2016-03-14 17:24:55</td>\n",
       "      <td>930.399753</td>\n",
       "      <td>0</td>\n",
       "      <td>455.0</td>\n",
       "      <td>1.500479</td>\n",
       "      <td>578.156451</td>\n",
       "      <td>355.270710</td>\n",
       "    </tr>\n",
       "    <tr>\n",
       "      <th>id2377394</th>\n",
       "      <td>0</td>\n",
       "      <td>2016-06-12 00:43:35</td>\n",
       "      <td>930.399753</td>\n",
       "      <td>0</td>\n",
       "      <td>663.0</td>\n",
       "      <td>1.807119</td>\n",
       "      <td>962.657188</td>\n",
       "      <td>674.295781</td>\n",
       "    </tr>\n",
       "    <tr>\n",
       "      <th>id3858529</th>\n",
       "      <td>1</td>\n",
       "      <td>2016-01-19 11:35:24</td>\n",
       "      <td>930.399753</td>\n",
       "      <td>0</td>\n",
       "      <td>2124.0</td>\n",
       "      <td>6.392080</td>\n",
       "      <td>2546.180515</td>\n",
       "      <td>2422.132431</td>\n",
       "    </tr>\n",
       "    <tr>\n",
       "      <th>id3504673</th>\n",
       "      <td>1</td>\n",
       "      <td>2016-04-06 19:32:31</td>\n",
       "      <td>930.399753</td>\n",
       "      <td>0</td>\n",
       "      <td>429.0</td>\n",
       "      <td>1.487155</td>\n",
       "      <td>737.926214</td>\n",
       "      <td>795.992362</td>\n",
       "    </tr>\n",
       "    <tr>\n",
       "      <th>id2181028</th>\n",
       "      <td>1</td>\n",
       "      <td>2016-03-26 13:30:55</td>\n",
       "      <td>930.399753</td>\n",
       "      <td>0</td>\n",
       "      <td>435.0</td>\n",
       "      <td>1.189925</td>\n",
       "      <td>666.070794</td>\n",
       "      <td>-4.158492</td>\n",
       "    </tr>\n",
       "  </tbody>\n",
       "</table>\n",
       "</div>"
      ],
      "text/plain": [
       "           vendor_id      pickup_datetime  passenger_count  \\\n",
       "id                                                           \n",
       "id2875421          1  2016-03-14 17:24:55       930.399753   \n",
       "id2377394          0  2016-06-12 00:43:35       930.399753   \n",
       "id3858529          1  2016-01-19 11:35:24       930.399753   \n",
       "id3504673          1  2016-04-06 19:32:31       930.399753   \n",
       "id2181028          1  2016-03-26 13:30:55       930.399753   \n",
       "\n",
       "           store_and_fwd_flag  trip_duration  distance_km  prediction_1  \\\n",
       "id                                                                        \n",
       "id2875421                   0          455.0     1.500479    578.156451   \n",
       "id2377394                   0          663.0     1.807119    962.657188   \n",
       "id3858529                   0         2124.0     6.392080   2546.180515   \n",
       "id3504673                   0          429.0     1.487155    737.926214   \n",
       "id2181028                   0          435.0     1.189925    666.070794   \n",
       "\n",
       "           prediction_2  \n",
       "id                       \n",
       "id2875421    355.270710  \n",
       "id2377394    674.295781  \n",
       "id3858529   2422.132431  \n",
       "id3504673    795.992362  \n",
       "id2181028     -4.158492  "
      ]
     },
     "execution_count": 217,
     "metadata": {},
     "output_type": "execute_result"
    }
   ],
   "source": [
    "df.head()"
   ]
  },
  {
   "cell_type": "markdown",
   "metadata": {
    "id": "hJJOnoaw9sjO"
   },
   "source": [
    "Давайте попробуем оценить, насколько и вправду гномы оказались умными и осведомленными в области построения различных моделей машинного обучения, и найдем, насколько сильно их модели ошибаются на наших данных!"
   ]
  },
  {
   "cell_type": "markdown",
   "metadata": {
    "id": "ZSeEOdpP9sjO"
   },
   "source": [
    "В начале посчитайте **MSE** модели. Для этого нужно посчитать квадратичное отклонение на каждом объекте, а потом просто усредниться! Полезно иметь формулу перед глазами.\n",
    "\n",
    "$$\n",
    "MSE = \\frac{1}{n} \\sum_i^n (a(x_i)-y_i)^2\n",
    "$$\n",
    "\n",
    "Положите результаты в переменные *error_1* и *error_2* соответственно."
   ]
  },
  {
   "cell_type": "code",
   "execution_count": 218,
   "metadata": {
    "id": "ozhTh4ls9sjQ"
   },
   "outputs": [],
   "source": [
    "### Your code is here\n",
    "import numpy as np\n",
    "\n",
    "df['error1'] = (df['prediction_1'] - df['trip_duration'])**2\n",
    "df['error2'] = (df['prediction_2'] - df['trip_duration'])**2\n",
    "\n",
    "error_1 = np.sum(df['error1'] / len(df['error1']))\n",
    "error_2 = np.sum(df['error2'] / len(df['error2']))"
   ]
  },
  {
   "cell_type": "code",
   "execution_count": 219,
   "metadata": {
    "id": "_JbxQKWp9sjQ"
   },
   "outputs": [
    {
     "name": "stdout",
     "output_type": "stream",
     "text": [
      "MSE первой модели равно: 99994\n",
      "MSE второй модели равно: 124936\n"
     ]
    }
   ],
   "source": [
    "###Распечатайте значения MSE для обеих моделей. Используйте эти значения для ответа на задание шага 5.\n",
    "print(f\"MSE первой модели равно: {int(error_1)}\")\n",
    "print(f\"MSE второй модели равно: {int(error_2)}\")"
   ]
  },
  {
   "cell_type": "markdown",
   "metadata": {
    "id": "_AuLIFkJ9sjQ"
   },
   "source": [
    "Видно, что у MSE достаточно большой порядок. Как мы и говорили, глазам куда будет приятнее, если мы будем считать **RMSE**:\n",
    "\n",
    "$$\n",
    "RMSE = \\sqrt{MSE} = \\sqrt{\\frac{1}{n} \\sum_i^n (a(x_i)-y_i)^2}\n",
    "$$"
   ]
  },
  {
   "cell_type": "code",
   "execution_count": 220,
   "metadata": {
    "id": "2VsDSCtz9sjS"
   },
   "outputs": [],
   "source": [
    "### Your code is here\n",
    "error_1 = np.sqrt(error_1)\n",
    "error_2 = np.sqrt(error_2)"
   ]
  },
  {
   "cell_type": "code",
   "execution_count": 221,
   "metadata": {
    "id": "uefqnRqk9sjS"
   },
   "outputs": [
    {
     "name": "stdout",
     "output_type": "stream",
     "text": [
      "RMSE первой модели равно: 316\n",
      "RMSE второй модели равно: 353\n"
     ]
    }
   ],
   "source": [
    "###Распечатайте значения RMSE для обеих моделей. Используйте эти значения для ответа на задание шага 6.\n",
    "\n",
    "print(f\"RMSE первой модели равно: {int(error_1)}\")\n",
    "print(f\"RMSE второй модели равно: {int(error_2)}\")"
   ]
  },
  {
   "cell_type": "markdown",
   "metadata": {
    "id": "_4jKIu679sjT"
   },
   "source": [
    "Что можете сказать про модели первого и второго гнома? Чья оказалась лучше с точки зрения **MSE**? Давайте теперь замерим значения средней абсолютной ошибки, то есть **MAE**:\n",
    "\n",
    "$$\n",
    "MAE = \\frac{1}{n} \\sum_i^n |a(x_i)-y_i|\n",
    "$$\n",
    "\n",
    "Рассчитайте MAE для обеих моделей."
   ]
  },
  {
   "cell_type": "code",
   "execution_count": 222,
   "metadata": {
    "id": "Y8smKMFb9sjU"
   },
   "outputs": [],
   "source": [
    "### Your code is here\n",
    "df['abs_error1'] = (df['prediction_1'] - df['trip_duration']).abs()\n",
    "df['abs_error2'] = (df['prediction_2'] - df['trip_duration']).abs()\n",
    "\n",
    "absolute_error_1 = np.sum(df['abs_error1'] / len(df['abs_error1']))\n",
    "absolute_error_2 = np.sum(df['abs_error2'] / len(df['abs_error2']))"
   ]
  },
  {
   "cell_type": "code",
   "execution_count": 223,
   "metadata": {
    "id": "JVmfwcBR9sjU"
   },
   "outputs": [
    {
     "name": "stdout",
     "output_type": "stream",
     "text": [
      "MAE первой модели равно: 300\n",
      "MAE второй модели равно: 281\n"
     ]
    }
   ],
   "source": [
    "###Распечатайте значения MAE для обеих моделей. Используйте эти значения для ответа на задание шага 7.\n",
    "print(f\"MAE первой модели равно: {int(absolute_error_1)}\")\n",
    "print(f\"MAE второй модели равно: {int(absolute_error_2)}\")"
   ]
  },
  {
   "cell_type": "markdown",
   "metadata": {
    "id": "4cT9-FyD9sjV"
   },
   "source": [
    "Если бы Вас попросили выбрать лучшую модель среди предложенных, на какой Вы бы остановились? Если брать за финальную метрику **MAE**, то поменяли бы Вы решение?\n",
    "\n",
    "Конечно! Мы наблюдаем ту самую ситуацию, когда, имея 2 разные модели с разными предсказаниями, финальный выбор однозначно сделать нельзя, например, сказав *\"Первая модель в среднем и в общем лучше второй!\"*. **Нет!** Все зависит от формы ошибки, которую мы выбираем. Иными словами, от вида той самой функции, которая наказывает наши модели и замеряет качество их прогнозов.\n",
    "\n",
    "Ситуация, когда **MAE** и **MSE**, выбирая между 2-х,  указывают на разные модели, знакома нам еще из лекции. \n",
    "\n",
    "Такое может происходить, когда в одной из моделей ошибка, в среднем, независимо от порядка чисел, чуть-чуть лучше, чем во второй. Но при этом если первая модель и ошибается, то куда суровее второй. \n",
    "\n",
    "Представьте: Петя и Миша играют в дартс. Петя в 9/10 случаев попадает в яблочко, но каждый 10-ый раз кидает дротик в потолок. Миша же, хоть и не так часто забрасывает в центр (всего 6/10), но при этом, оставшиеся 4 попытки реализует не совсем фатально: попадает всего-лишь немного дальше яблочка. \n",
    "\n",
    "В таком выдуманном сценарии Петя будет лучше с точки зрения **MAE**, а Миша - с точки зрения **MSE**, так как не допускает фатальных ошибок, хоть и в среднем набирает меньше очков. \n",
    "\n",
    "Давайте убедимся в том, что фатальных ошибок у второй модели больше. \n",
    "\n",
    "Посчитайте, в скольки случаях предсказания отклоняются от ответа более, чем на **500**, для первой и второй моделей!\n",
    "\n",
    "Назовите переменные *counter_1* и *counter_2*"
   ]
  },
  {
   "cell_type": "code",
   "execution_count": 224,
   "id": "a1522fba",
   "metadata": {},
   "outputs": [
    {
     "data": {
      "text/html": [
       "<div>\n",
       "<style scoped>\n",
       "    .dataframe tbody tr th:only-of-type {\n",
       "        vertical-align: middle;\n",
       "    }\n",
       "\n",
       "    .dataframe tbody tr th {\n",
       "        vertical-align: top;\n",
       "    }\n",
       "\n",
       "    .dataframe thead th {\n",
       "        text-align: right;\n",
       "    }\n",
       "</style>\n",
       "<table border=\"1\" class=\"dataframe\">\n",
       "  <thead>\n",
       "    <tr style=\"text-align: right;\">\n",
       "      <th></th>\n",
       "      <th>vendor_id</th>\n",
       "      <th>pickup_datetime</th>\n",
       "      <th>passenger_count</th>\n",
       "      <th>store_and_fwd_flag</th>\n",
       "      <th>trip_duration</th>\n",
       "      <th>distance_km</th>\n",
       "      <th>prediction_1</th>\n",
       "      <th>prediction_2</th>\n",
       "      <th>error1</th>\n",
       "      <th>error2</th>\n",
       "      <th>abs_error1</th>\n",
       "      <th>abs_error2</th>\n",
       "    </tr>\n",
       "    <tr>\n",
       "      <th>id</th>\n",
       "      <th></th>\n",
       "      <th></th>\n",
       "      <th></th>\n",
       "      <th></th>\n",
       "      <th></th>\n",
       "      <th></th>\n",
       "      <th></th>\n",
       "      <th></th>\n",
       "      <th></th>\n",
       "      <th></th>\n",
       "      <th></th>\n",
       "      <th></th>\n",
       "    </tr>\n",
       "  </thead>\n",
       "  <tbody>\n",
       "    <tr>\n",
       "      <th>id2875421</th>\n",
       "      <td>1</td>\n",
       "      <td>2016-03-14 17:24:55</td>\n",
       "      <td>930.399753</td>\n",
       "      <td>0</td>\n",
       "      <td>455.0</td>\n",
       "      <td>1.500479</td>\n",
       "      <td>578.156451</td>\n",
       "      <td>355.270710</td>\n",
       "      <td>15167.511303</td>\n",
       "      <td>9945.931251</td>\n",
       "      <td>123.156451</td>\n",
       "      <td>99.729290</td>\n",
       "    </tr>\n",
       "    <tr>\n",
       "      <th>id2377394</th>\n",
       "      <td>0</td>\n",
       "      <td>2016-06-12 00:43:35</td>\n",
       "      <td>930.399753</td>\n",
       "      <td>0</td>\n",
       "      <td>663.0</td>\n",
       "      <td>1.807119</td>\n",
       "      <td>962.657188</td>\n",
       "      <td>674.295781</td>\n",
       "      <td>89794.430033</td>\n",
       "      <td>127.594668</td>\n",
       "      <td>299.657188</td>\n",
       "      <td>11.295781</td>\n",
       "    </tr>\n",
       "    <tr>\n",
       "      <th>id3858529</th>\n",
       "      <td>1</td>\n",
       "      <td>2016-01-19 11:35:24</td>\n",
       "      <td>930.399753</td>\n",
       "      <td>0</td>\n",
       "      <td>2124.0</td>\n",
       "      <td>6.392080</td>\n",
       "      <td>2546.180515</td>\n",
       "      <td>2422.132431</td>\n",
       "      <td>178236.387378</td>\n",
       "      <td>88882.946571</td>\n",
       "      <td>422.180515</td>\n",
       "      <td>298.132431</td>\n",
       "    </tr>\n",
       "    <tr>\n",
       "      <th>id3504673</th>\n",
       "      <td>1</td>\n",
       "      <td>2016-04-06 19:32:31</td>\n",
       "      <td>930.399753</td>\n",
       "      <td>0</td>\n",
       "      <td>429.0</td>\n",
       "      <td>1.487155</td>\n",
       "      <td>737.926214</td>\n",
       "      <td>795.992362</td>\n",
       "      <td>95435.405395</td>\n",
       "      <td>134683.393887</td>\n",
       "      <td>308.926214</td>\n",
       "      <td>366.992362</td>\n",
       "    </tr>\n",
       "    <tr>\n",
       "      <th>id2181028</th>\n",
       "      <td>1</td>\n",
       "      <td>2016-03-26 13:30:55</td>\n",
       "      <td>930.399753</td>\n",
       "      <td>0</td>\n",
       "      <td>435.0</td>\n",
       "      <td>1.189925</td>\n",
       "      <td>666.070794</td>\n",
       "      <td>-4.158492</td>\n",
       "      <td>53393.711867</td>\n",
       "      <td>192860.181028</td>\n",
       "      <td>231.070794</td>\n",
       "      <td>439.158492</td>\n",
       "    </tr>\n",
       "    <tr>\n",
       "      <th>...</th>\n",
       "      <td>...</td>\n",
       "      <td>...</td>\n",
       "      <td>...</td>\n",
       "      <td>...</td>\n",
       "      <td>...</td>\n",
       "      <td>...</td>\n",
       "      <td>...</td>\n",
       "      <td>...</td>\n",
       "      <td>...</td>\n",
       "      <td>...</td>\n",
       "      <td>...</td>\n",
       "      <td>...</td>\n",
       "    </tr>\n",
       "    <tr>\n",
       "      <th>id2376096</th>\n",
       "      <td>1</td>\n",
       "      <td>2016-04-08 13:31:04</td>\n",
       "      <td>1053.529749</td>\n",
       "      <td>0</td>\n",
       "      <td>778.0</td>\n",
       "      <td>1.226296</td>\n",
       "      <td>1090.926494</td>\n",
       "      <td>1230.540125</td>\n",
       "      <td>97922.990723</td>\n",
       "      <td>204792.564627</td>\n",
       "      <td>312.926494</td>\n",
       "      <td>452.540125</td>\n",
       "    </tr>\n",
       "    <tr>\n",
       "      <th>id1049543</th>\n",
       "      <td>0</td>\n",
       "      <td>2016-01-10 07:35:15</td>\n",
       "      <td>930.399753</td>\n",
       "      <td>0</td>\n",
       "      <td>655.0</td>\n",
       "      <td>6.056935</td>\n",
       "      <td>883.318745</td>\n",
       "      <td>1568.424070</td>\n",
       "      <td>52129.449462</td>\n",
       "      <td>834343.531152</td>\n",
       "      <td>228.318745</td>\n",
       "      <td>913.424070</td>\n",
       "    </tr>\n",
       "    <tr>\n",
       "      <th>id2304944</th>\n",
       "      <td>1</td>\n",
       "      <td>2016-04-22 06:57:41</td>\n",
       "      <td>930.399753</td>\n",
       "      <td>0</td>\n",
       "      <td>764.0</td>\n",
       "      <td>7.832952</td>\n",
       "      <td>1002.554003</td>\n",
       "      <td>780.697509</td>\n",
       "      <td>56908.012401</td>\n",
       "      <td>278.806799</td>\n",
       "      <td>238.554003</td>\n",
       "      <td>16.697509</td>\n",
       "    </tr>\n",
       "    <tr>\n",
       "      <th>id2714485</th>\n",
       "      <td>0</td>\n",
       "      <td>2016-01-05 15:56:26</td>\n",
       "      <td>930.399753</td>\n",
       "      <td>0</td>\n",
       "      <td>373.0</td>\n",
       "      <td>1.093786</td>\n",
       "      <td>809.069587</td>\n",
       "      <td>641.495195</td>\n",
       "      <td>190156.684544</td>\n",
       "      <td>72089.669605</td>\n",
       "      <td>436.069587</td>\n",
       "      <td>268.495195</td>\n",
       "    </tr>\n",
       "    <tr>\n",
       "      <th>id1209952</th>\n",
       "      <td>0</td>\n",
       "      <td>2016-04-05 14:44:25</td>\n",
       "      <td>930.399753</td>\n",
       "      <td>0</td>\n",
       "      <td>198.0</td>\n",
       "      <td>1.135453</td>\n",
       "      <td>382.109137</td>\n",
       "      <td>150.075953</td>\n",
       "      <td>33896.174300</td>\n",
       "      <td>2296.714257</td>\n",
       "      <td>184.109137</td>\n",
       "      <td>47.924047</td>\n",
       "    </tr>\n",
       "  </tbody>\n",
       "</table>\n",
       "<p>1458644 rows × 12 columns</p>\n",
       "</div>"
      ],
      "text/plain": [
       "           vendor_id      pickup_datetime  passenger_count  \\\n",
       "id                                                           \n",
       "id2875421          1  2016-03-14 17:24:55       930.399753   \n",
       "id2377394          0  2016-06-12 00:43:35       930.399753   \n",
       "id3858529          1  2016-01-19 11:35:24       930.399753   \n",
       "id3504673          1  2016-04-06 19:32:31       930.399753   \n",
       "id2181028          1  2016-03-26 13:30:55       930.399753   \n",
       "...              ...                  ...              ...   \n",
       "id2376096          1  2016-04-08 13:31:04      1053.529749   \n",
       "id1049543          0  2016-01-10 07:35:15       930.399753   \n",
       "id2304944          1  2016-04-22 06:57:41       930.399753   \n",
       "id2714485          0  2016-01-05 15:56:26       930.399753   \n",
       "id1209952          0  2016-04-05 14:44:25       930.399753   \n",
       "\n",
       "           store_and_fwd_flag  trip_duration  distance_km  prediction_1  \\\n",
       "id                                                                        \n",
       "id2875421                   0          455.0     1.500479    578.156451   \n",
       "id2377394                   0          663.0     1.807119    962.657188   \n",
       "id3858529                   0         2124.0     6.392080   2546.180515   \n",
       "id3504673                   0          429.0     1.487155    737.926214   \n",
       "id2181028                   0          435.0     1.189925    666.070794   \n",
       "...                       ...            ...          ...           ...   \n",
       "id2376096                   0          778.0     1.226296   1090.926494   \n",
       "id1049543                   0          655.0     6.056935    883.318745   \n",
       "id2304944                   0          764.0     7.832952   1002.554003   \n",
       "id2714485                   0          373.0     1.093786    809.069587   \n",
       "id1209952                   0          198.0     1.135453    382.109137   \n",
       "\n",
       "           prediction_2         error1         error2  abs_error1  abs_error2  \n",
       "id                                                                             \n",
       "id2875421    355.270710   15167.511303    9945.931251  123.156451   99.729290  \n",
       "id2377394    674.295781   89794.430033     127.594668  299.657188   11.295781  \n",
       "id3858529   2422.132431  178236.387378   88882.946571  422.180515  298.132431  \n",
       "id3504673    795.992362   95435.405395  134683.393887  308.926214  366.992362  \n",
       "id2181028     -4.158492   53393.711867  192860.181028  231.070794  439.158492  \n",
       "...                 ...            ...            ...         ...         ...  \n",
       "id2376096   1230.540125   97922.990723  204792.564627  312.926494  452.540125  \n",
       "id1049543   1568.424070   52129.449462  834343.531152  228.318745  913.424070  \n",
       "id2304944    780.697509   56908.012401     278.806799  238.554003   16.697509  \n",
       "id2714485    641.495195  190156.684544   72089.669605  436.069587  268.495195  \n",
       "id1209952    150.075953   33896.174300    2296.714257  184.109137   47.924047  \n",
       "\n",
       "[1458644 rows x 12 columns]"
      ]
     },
     "execution_count": 224,
     "metadata": {},
     "output_type": "execute_result"
    }
   ],
   "source": [
    "df"
   ]
  },
  {
   "cell_type": "code",
   "execution_count": 225,
   "metadata": {
    "id": "wOwMclmm9sjV"
   },
   "outputs": [],
   "source": [
    "### Your code is here\n",
    "df['err1'] = df['prediction_1'] - df['trip_duration']\n",
    "df['err2'] = df['prediction_2'] - df['trip_duration']\n",
    "count_1a = (df[df['err1'] > 500]).count()\n",
    "count_1b = (df[df['err1'] < -500]).count()\n",
    "counter_1 = (count_1a + count_1b)\n",
    "count_2a = (df[df['err2'] > 500]).count()\n",
    "count_2b = (df[df['err2'] < -500]).count()\n",
    "counter_2 = (count_2a + count_2b)\n"
   ]
  },
  {
   "cell_type": "code",
   "execution_count": 226,
   "metadata": {
    "id": "D9Q7WLOO9sjV"
   },
   "outputs": [
    {
     "name": "stdout",
     "output_type": "stream",
     "text": [
      "Количество отклонений >= 500 от верного ответа для первой модели равно: vendor_id             33061\n",
      "pickup_datetime       33061\n",
      "passenger_count       33061\n",
      "store_and_fwd_flag    33061\n",
      "trip_duration         33061\n",
      "distance_km           33061\n",
      "prediction_1          33061\n",
      "prediction_2          33061\n",
      "error1                33061\n",
      "error2                33061\n",
      "abs_error1            33061\n",
      "abs_error2            33061\n",
      "err1                  33061\n",
      "err2                  33061\n",
      "dtype: int64\n",
      "Количество отклонений >= 500 от верного ответа для второй модели равно: vendor_id             228789\n",
      "pickup_datetime       228789\n",
      "passenger_count       228789\n",
      "store_and_fwd_flag    228789\n",
      "trip_duration         228789\n",
      "distance_km           228789\n",
      "prediction_1          228789\n",
      "prediction_2          228789\n",
      "error1                228789\n",
      "error2                228789\n",
      "abs_error1            228789\n",
      "abs_error2            228789\n",
      "err1                  228789\n",
      "err2                  228789\n",
      "dtype: int64\n"
     ]
    }
   ],
   "source": [
    "###Распечатайте значения для обеих моделей. Используйте эти значения для ответа на задание шага 8.\n",
    "print(f\"Количество отклонений >= 500 от верного ответа для первой модели равно: {counter_1}\")\n",
    "print(f\"Количество отклонений >= 500 от верного ответа для второй модели равно: {counter_2}\")\n"
   ]
  },
  {
   "cell_type": "markdown",
   "metadata": {
    "id": "hn1-bXxK9sjV"
   },
   "source": [
    "**Несимметричные метрики**\n",
    "\n",
    "Зачастую, чтобы выбрать среди всего многообразия моделей, мы можем использовать несимметричные метрики. \n",
    "\n",
    "**MSE** и **MAE** относятся к симметричным. Они одинаково наказывают модель как за перепредсказание, так и за недопредсказание. Ошибки *+2* и *-2* переводятся **MSE** и **MAE** в одинаковую меру: **4** в первом случае и **2** во втором.\n",
    "\n",
    "В действительности же, можно придумать целый ряд задач, когда лучше выбирать несимметричную метрику.\n",
    "\n",
    "Представьте, что мы - дистрибьютор инсулина, и нам нужно построить модель, которая оптимизирует поставки. В таком случае кажется, что поставить лекарства на 2 единицы больше и на 2 единицы меньше - совершенно разные сценарии и разная интерпретация катастрофичности ошибки. \n",
    "\n",
    "В первом случае мы можем потерять немного прибыли, а во втором - лишить пациента жизненно важного лекарства. Поэтому хотелось бы научиться еще и по-разному оценивать *недо- и перепредсказания*. Для этого и используют несимметричные метрики! Одну из них предлагаю Вам посчитать ниже."
   ]
  },
  {
   "cell_type": "markdown",
   "metadata": {
    "id": "q5y4RARv9sjW"
   },
   "source": [
    "Рассчитайте **RMSLE**. Придумайте, как проверить характер несимметричности данной метрики: за что она наказывает больше - за перепредсказания или за недопредсказания? Это нужно будет в тестовом теоретическом задании.\n",
    "\n",
    "$$\n",
    "\\text{RMSLE}(X, y, a) = \\sqrt{\\frac{1}{\\ell}\\sum_{i=1}^{\\ell} \\big(\\log{(y_i + 1)} - \\log{(a(x_i) + 1)}\\big)^2}\n",
    "$$\n",
    "\n",
    "Для взятия натурального логарифма используйте библиотеку **math**\n",
    "\n",
    "P.S. Очевидно, что для некоторых отрицательных предсказаний, формула не будет работать, так как логарифм от отрицательных значений взять нельзя. Поэтому давайте подкорректируем наши прогнозы: все отрицательные числа переведем в нули (лучше уж в нашей задаче предсказать *ноль секунд*, чем *минус 100 секунд*)\n",
    "\n",
    "Переменные с метриками назовите *rmsle_1*, *rmsle_2*. Округлите их до 3 знаков после точки."
   ]
  },
  {
   "cell_type": "code",
   "execution_count": 227,
   "metadata": {
    "id": "Ze18m7x69sjW"
   },
   "outputs": [],
   "source": [
    "### Замените все отрицательные предсказания на 0\n",
    "### Your code is here\n",
    "#df['err1'] = df[df['err1'] < 0 ] = 0\n",
    "#df[df['err1'] == 0 ]\n",
    "df.loc[df['prediction_1'] < 0, 'prediction_1' ] = 0\n",
    "df.loc[df['prediction_2'] < 0, 'prediction_2' ] = 0\n"
   ]
  },
  {
   "cell_type": "code",
   "execution_count": 228,
   "metadata": {
    "id": "14Z6JTog9sjX"
   },
   "outputs": [],
   "source": [
    "from math import log\n",
    "\n",
    "### Your code is here\n",
    "rmsle_1 =  np.round(np.sqrt(np.sum((np.log(df['trip_duration'] + 1) - np.log(df['prediction_1'] + 1 )) ** 2 )/ len(df['prediction_1'])),3)\n",
    "rmsle_2 = np.round(np.sqrt(np.sum((np.log(df['trip_duration'] + 1) - np.log(df['prediction_2'] + 1)) ** 2) / len(df['prediction_2'])),3)"
   ]
  },
  {
   "cell_type": "code",
   "execution_count": 229,
   "metadata": {
    "id": "A_IA-u2d9sjX"
   },
   "outputs": [
    {
     "name": "stdout",
     "output_type": "stream",
     "text": [
      "RMSLE первой модели равно: 0.554\n",
      "RMSLE второй модели равно: 1.556\n"
     ]
    }
   ],
   "source": [
    "###Распечатайте значения для обеих моделей. Используйте эти значения для ответа на задание шага 9.\n",
    "print(f\"RMSLE первой модели равно: {rmsle_1}\")\n",
    "print(f\"RMSLE второй модели равно: {rmsle_2}\")"
   ]
  },
  {
   "cell_type": "markdown",
   "metadata": {
    "id": "AlimEbB_9sjX"
   },
   "source": [
    "Посчитайте, для какого количества объектов первая модель сделала перепредсказания и недопредсказания\n",
    "\n",
    "Аналогичный расчет проведите для первой модели и недопредсказания.\n",
    "\n",
    "P.S. оставьте колонку с предсказанием такой, какой она оказалась после замены отрицательных значений\n",
    "\n",
    "Счетчики перепредсказаний и недопредсказаний назовите *over_predicted_1* и *under_predicted_1*"
   ]
  },
  {
   "cell_type": "code",
   "execution_count": 230,
   "metadata": {
    "id": "3JJUHCQU9sjY"
   },
   "outputs": [],
   "source": [
    "### Your code is here\n",
    "\n",
    "df['err1'] = df['prediction_1'] - df['trip_duration']\n",
    "\n",
    "underpred = []\n",
    "overpred = []\n",
    "for i  in df['err1']:\n",
    "    if i > 0:\n",
    "        overpred.append(i)\n",
    "    else:\n",
    "        underpred.append(i)\n",
    "over_predicted_1 = len(overpred)\n",
    "under_predicted_1 = len(underpred)\n",
    "\n",
    "# можно сказать что предсказания оказались в 757 случаях больше чем фактические нежели наоборот"
   ]
  },
  {
   "cell_type": "code",
   "execution_count": 231,
   "metadata": {
    "id": "2MwyPvvM9sjY"
   },
   "outputs": [
    {
     "name": "stdout",
     "output_type": "stream",
     "text": [
      "Предсказания первой модели оказались больше действительных в 1456721 случаях\n",
      "Предсказания первой модели оказались меньше действительных в 1923 случаях\n"
     ]
    }
   ],
   "source": [
    "###Распечатайте значения для обеих моделей. Используйте эти значения для ответа на задание шага 10.\n",
    "print(f\"Предсказания первой модели оказались больше действительных в {over_predicted_1} случаях\")\n",
    "print(f\"Предсказания первой модели оказались меньше действительных в {under_predicted_1} случаях\")"
   ]
  },
  {
   "cell_type": "markdown",
   "metadata": {
    "id": "YQ6Cds9a9sjY"
   },
   "source": [
    "Аналогично для второй модели\n",
    "\n",
    "\n",
    "Счетчики перепредсказаний и недопредсказаний назовите *over_predicted_2* и *under_predicted_2*"
   ]
  },
  {
   "cell_type": "code",
   "execution_count": 232,
   "metadata": {
    "id": "xphLYA3C9sjY"
   },
   "outputs": [],
   "source": [
    "### Your code is here\n",
    "df['err2'] = df['prediction_2'] - df['trip_duration']\n",
    "\n",
    "underpred2 = []\n",
    "overpred2 = []\n",
    "for i  in df['err2']:\n",
    "    if i > 0:\n",
    "        overpred2.append(i)\n",
    "    else:\n",
    "        underpred2.append(i)\n",
    "over_predicted_2 = len(overpred2)\n",
    "under_predicted_2 = len(underpred2)"
   ]
  },
  {
   "cell_type": "code",
   "execution_count": 233,
   "metadata": {
    "id": "x8ee6qxn9sjZ"
   },
   "outputs": [
    {
     "name": "stdout",
     "output_type": "stream",
     "text": [
      "Предсказания второй модели оказались больше действительных в 811778 случаях\n",
      "Предсказания второй модели оказались меньше действительных в 646866 случаях\n"
     ]
    }
   ],
   "source": [
    "###Распечатайте значения для обеих моделей. Используйте эти значения для ответа на задание шага 11.\n",
    "print(f\"Предсказания второй модели оказались больше действительных в {over_predicted_2} случаях\")\n",
    "print(f\"Предсказания второй модели оказались меньше действительных в {under_predicted_2} случаях\")"
   ]
  },
  {
   "cell_type": "markdown",
   "metadata": {
    "id": "QfTRmevE9sjZ"
   },
   "source": [
    "Сравните две модели заново. Согласуется ли полученный результат с подсчетом **RMSLE** ранее?"
   ]
  }
 ],
 "metadata": {
  "colab": {
   "collapsed_sections": [],
   "name": "HW_2.ipynb",
   "provenance": []
  },
  "kernelspec": {
   "display_name": "Python 3",
   "language": "python",
   "name": "python3"
  },
  "language_info": {
   "codemirror_mode": {
    "name": "ipython",
    "version": 3
   },
   "file_extension": ".py",
   "mimetype": "text/x-python",
   "name": "python",
   "nbconvert_exporter": "python",
   "pygments_lexer": "ipython3",
   "version": "3.12.1"
  }
 },
 "nbformat": 4,
 "nbformat_minor": 5
}
